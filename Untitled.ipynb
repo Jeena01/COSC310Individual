{
 "cells": [
  {
   "cell_type": "code",
   "execution_count": 3,
   "id": "1c4b393c-aa7c-4ce7-b689-e6a1eedf0f71",
   "metadata": {},
   "outputs": [],
   "source": [
    "import bot as b"
   ]
  },
  {
   "cell_type": "code",
   "execution_count": 4,
   "id": "f5bbd419-7ef5-425a-bbfb-d1cb6de5a757",
   "metadata": {},
   "outputs": [
    {
     "name": "stdin",
     "output_type": "stream",
     "text": [
      "Serenity: Hi! I'm Serenity! What's your name?\n",
      " User: jeena\n"
     ]
    },
    {
     "name": "stdout",
     "output_type": "stream",
     "text": [
      "Serenity: Nice to meet you jeena. How is it going?\n"
     ]
    },
    {
     "name": "stdin",
     "output_type": "stream",
     "text": [
      "jeena:  good\n"
     ]
    },
    {
     "name": "stdout",
     "output_type": "stream",
     "text": [
      "Serenity: I'm happy to hear that :D. Tell me more!\n"
     ]
    },
    {
     "name": "stdin",
     "output_type": "stream",
     "text": [
      "jeena:  end\n"
     ]
    },
    {
     "name": "stdout",
     "output_type": "stream",
     "text": [
      "Serenity: It was great talking to you! Goodbye!\n"
     ]
    }
   ],
   "source": [
    "b.start()"
   ]
  },
  {
   "cell_type": "code",
   "execution_count": null,
   "id": "2671e3ca-876b-414e-b33e-67c5a26fbcfb",
   "metadata": {},
   "outputs": [],
   "source": []
  }
 ],
 "metadata": {
  "kernelspec": {
   "display_name": "Python 3 (ipykernel)",
   "language": "python",
   "name": "python3"
  },
  "language_info": {
   "codemirror_mode": {
    "name": "ipython",
    "version": 3
   },
   "file_extension": ".py",
   "mimetype": "text/x-python",
   "name": "python",
   "nbconvert_exporter": "python",
   "pygments_lexer": "ipython3",
   "version": "3.9.5"
  }
 },
 "nbformat": 4,
 "nbformat_minor": 5
}
