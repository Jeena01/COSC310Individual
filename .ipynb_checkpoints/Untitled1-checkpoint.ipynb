{
 "cells": [
  {
   "cell_type": "code",
   "execution_count": 112,
   "id": "9c7742ba-9df5-4355-9a94-8d306a5eecb0",
   "metadata": {},
   "outputs": [],
   "source": [
    "from optimizer import InputProcess as ip\n",
    "import wikipedia\n",
    "import json\n",
    "import random\n",
    "from translate import Translator"
   ]
  },
  {
   "cell_type": "code",
   "execution_count": 113,
   "id": "9937bc08-fd46-420a-bee8-884d3a39ab48",
   "metadata": {},
   "outputs": [],
   "source": [
    "name=\"User\"\n",
    "input_resp=\"\"\n",
    "opt_input=[]\n",
    "query_words=[\"what\", \"search\",\"information\" \"look up\",\"tell\"]\n",
    "translate_words=[\"language\",\"translate\",\"french\",\"german\",\"spanish\"]\n",
    "languages=[\"german\",\"french\",\"spanish\",\"english\"]\n",
    "bye_words=[\"go\", \"leave\", \"bye\", \"end\" ]\n",
    "prompts=[ \"The silent treatment I see. Well I'm here if you need me.\", \"I can't help you if you don't talk to me!\",\n",
    "         \"You can tell me anything! Type in the text box when you feel ready\"]\n",
    "apologies=[\"I don't understand. Could you try phrasing it a different way?\",\"I'm not sure what you mean by that.\", \"Hmm. I'm not sure I can help with that. Anything else?\",\n",
    "           \"I'm sorry, I'm not smart enough to understand what you meant. Try saying something else?\",\n",
    "           \"I think I don't understand what you meant. Could you clarify?\"]\n",
    "with open('responses.json') as json_file:\n",
    "    responses = json.load(json_file)\n",
    "translator= Translator(to_lang=\"spanish\")\n",
    "trnsl_output=False"
   ]
  },
  {
   "cell_type": "code",
   "execution_count": 114,
   "id": "92c00be2-2cd5-4854-bd9f-0519c4edc1e1",
   "metadata": {},
   "outputs": [],
   "source": [
    "def print_output(s):\n",
    "    if trnsl_output:\n",
    "        print(\"Serenity: \"+translator.translate(s))\n",
    "    else:\n",
    "        print(\"Serenity: \"+s)"
   ]
  },
  {
   "cell_type": "code",
   "execution_count": 115,
   "id": "63f15cdc-bc93-4b4c-9045-f67f6d704b1b",
   "metadata": {},
   "outputs": [],
   "source": [
    "def get_input():\n",
    "    #function gets input from user\n",
    "    global input_resp\n",
    "    input_resp = input((name+\": \"))\n",
    "    global opt_input\n",
    "    opt_input=ip.optimizer(input_resp)"
   ]
  },
  {
   "cell_type": "code",
   "execution_count": 116,
   "id": "a2d423ab-e18b-4f6d-a3ba-db37f2a9b78d",
   "metadata": {},
   "outputs": [],
   "source": [
    "def greet():\n",
    "    #function greets user\n",
    "    global input_resp\n",
    "    input_resp=input(\"Serenity: Hi! I'm Serenity! What's your name?\\n User:\")\n",
    "    global name\n",
    "    name=input_resp\n",
    "    print_output(\"Nice to meet you \" +name+\". How is it going?\")\n",
    "    "
   ]
  },
  {
   "cell_type": "code",
   "execution_count": 117,
   "id": "005d443e-23ff-4630-af0a-04ad55961c03",
   "metadata": {},
   "outputs": [],
   "source": [
    "def check_query():\n",
    "    #function checks if user is asking a query\n",
    "    global opt_input\n",
    "    for qword in query_words:\n",
    "        for word in opt_input:\n",
    "            if ip.is_same(qword,word):\n",
    "                return True\n",
    "    return False"
   ]
  },
  {
   "cell_type": "code",
   "execution_count": 118,
   "id": "05e2ed48-d9bb-4a70-8924-99a1e543275b",
   "metadata": {},
   "outputs": [],
   "source": [
    "def check_translate():\n",
    "    #function checks if user is making a translation request\n",
    "    global opt_input\n",
    "    for qword in translate_words:\n",
    "        for word in opt_input:\n",
    "            if ip.is_same(qword,word):\n",
    "                return True\n",
    "    return False"
   ]
  },
  {
   "cell_type": "code",
   "execution_count": 119,
   "id": "ee8516d0-55ed-40c8-89be-d6fca7b842d0",
   "metadata": {},
   "outputs": [],
   "source": [
    "def get_resp():\n",
    "    #function gets response from dictionary\n",
    "    for key, value in responses.items():\n",
    "        for word in opt_input:\n",
    "            if ip.is_same(key,word):\n",
    "                return value\n",
    "    \n",
    "    return \"\""
   ]
  },
  {
   "cell_type": "code",
   "execution_count": 120,
   "id": "ff722460-ee15-48d3-b489-7bfba36c8054",
   "metadata": {},
   "outputs": [],
   "source": [
    "def start():\n",
    "    greet()\n",
    "    talk()"
   ]
  },
  {
   "cell_type": "code",
   "execution_count": 121,
   "id": "bdaaaece-03e1-42c8-94ee-a5e2ca4aa8cb",
   "metadata": {},
   "outputs": [],
   "source": [
    "def check_goodbye():\n",
    "    global opt_input\n",
    "    for qword in bye_words:\n",
    "        for word in opt_input:\n",
    "            if ip.is_same(qword,word):\n",
    "                return True\n",
    "    return False"
   ]
  },
  {
   "cell_type": "code",
   "execution_count": 122,
   "id": "84fadf07-46cc-4fe4-a6f7-75a08b20169a",
   "metadata": {},
   "outputs": [],
   "source": [
    "def get_wiki():\n",
    "    print_output(\"What would you like to know about?\")\n",
    "    query=input((name+\":\"))\n",
    "    print_output(wikipedia.summary(query,sentences=3))"
   ]
  },
  {
   "cell_type": "code",
   "execution_count": 123,
   "id": "0beea8c6-22ef-4012-a121-b9b71b83e785",
   "metadata": {},
   "outputs": [],
   "source": [
    "def talk():\n",
    "    keep_going=True\n",
    "    while(keep_going):\n",
    "        get_input()\n",
    "        if len(opt_input) ==0:\n",
    "            print_output(random.choice(prompts))\n",
    "            continue\n",
    "            #working\n",
    "        elif check_goodbye():\n",
    "            print_output(\"It was great talking to you! Goodbye!\")\n",
    "            keep_going=False\n",
    "            break\n",
    "            #working\n",
    "        elif check_translate():\n",
    "            translate()\n",
    "        elif check_query():\n",
    "            get_wiki()\n",
    "            print_output(\"What else can I help you with?\")\n",
    "            #working\n",
    "        else:\n",
    "            output=get_resp()\n",
    "            if output ==\"\":\n",
    "                print_output(random.choice(apologies))\n",
    "            else:\n",
    "                print_output(output)"
   ]
  },
  {
   "cell_type": "code",
   "execution_count": 124,
   "id": "4cd767cc-cc0f-452a-9730-cb68ce6e0368",
   "metadata": {},
   "outputs": [],
   "source": [
    "def translate():\n",
    "    global trnsl_output\n",
    "    global translator\n",
    "    print_output(\"What language would you like to me to switch to?\")\n",
    "    get_input()\n",
    "    lang=get_lang()\n",
    "    if ip.is_same(lang,\"english\"):\n",
    "        trnsl_output=False\n",
    "        print_output(\"Okay! Switching back to English now!\")\n",
    "    elif lang == \"err\":\n",
    "        print_output(\"Sorry that language is not supported. Anything else I can help with?\")\n",
    "    else:\n",
    "        translator= Translator(to_lang=lang)\n",
    "        trnsl_output=True\n",
    "        print_output(\"You got it! Talk to me like you normally would!\")"
   ]
  },
  {
   "cell_type": "code",
   "execution_count": 125,
   "id": "bc5c67f7-8e1b-4902-814e-99a6989147aa",
   "metadata": {},
   "outputs": [],
   "source": [
    "def get_lang():\n",
    "    global opt_input\n",
    "    for qword in languages:\n",
    "        for word in opt_input:\n",
    "            if ip.is_same(qword,word):\n",
    "                return qword\n",
    "    return \"err\""
   ]
  },
  {
   "cell_type": "code",
   "execution_count": 139,
   "id": "557bf949-eb28-408c-804a-ed026e20a470",
   "metadata": {},
   "outputs": [
    {
     "name": "stdin",
     "output_type": "stream",
     "text": [
      "Serenity: Hi! I'm Serenity! What's your name?\n",
      " User: jeena\n"
     ]
    },
    {
     "name": "stdout",
     "output_type": "stream",
     "text": [
      "Serenity: Es freut mich Sie kennen zu lernen.\n"
     ]
    },
    {
     "name": "stdin",
     "output_type": "stream",
     "text": [
      "jeena:  translate\n"
     ]
    },
    {
     "name": "stdout",
     "output_type": "stream",
     "text": [
      "Serenity: Welche Sprache möchten Sie erlernen?\n"
     ]
    },
    {
     "name": "stdin",
     "output_type": "stream",
     "text": [
      "jeena:  french\n"
     ]
    },
    {
     "name": "stdout",
     "output_type": "stream",
     "text": [
      "Serenity: Il semblerait que tu te souviennes\n"
     ]
    },
    {
     "name": "stdin",
     "output_type": "stream",
     "text": [
      "jeena:  good\n"
     ]
    },
    {
     "name": "stdout",
     "output_type": "stream",
     "text": [
      "Serenity: — Je suis ravi de l’entendre.\n"
     ]
    },
    {
     "name": "stdin",
     "output_type": "stream",
     "text": [
      "jeena:  angry\n"
     ]
    },
    {
     "name": "stdout",
     "output_type": "stream",
     "text": [
      "Serenity: Je ne comprends pas ce que vous entendez\n"
     ]
    },
    {
     "name": "stdin",
     "output_type": "stream",
     "text": [
      "jeena:  \n"
     ]
    },
    {
     "name": "stdout",
     "output_type": "stream",
     "text": [
      "Serenity: Tu peux tout me dire.\n"
     ]
    },
    {
     "ename": "KeyboardInterrupt",
     "evalue": "Interrupted by user",
     "output_type": "error",
     "traceback": [
      "\u001b[1;31m---------------------------------------------------------------------------\u001b[0m",
      "\u001b[1;31mKeyboardInterrupt\u001b[0m                         Traceback (most recent call last)",
      "\u001b[1;32m~\\AppData\\Local\\Temp/ipykernel_18740/2857415371.py\u001b[0m in \u001b[0;36m<module>\u001b[1;34m\u001b[0m\n\u001b[1;32m----> 1\u001b[1;33m \u001b[0mstart\u001b[0m\u001b[1;33m(\u001b[0m\u001b[1;33m)\u001b[0m\u001b[1;33m\u001b[0m\u001b[1;33m\u001b[0m\u001b[0m\n\u001b[0m",
      "\u001b[1;32m~\\AppData\\Local\\Temp/ipykernel_18740/1830908948.py\u001b[0m in \u001b[0;36mstart\u001b[1;34m()\u001b[0m\n\u001b[0;32m      1\u001b[0m \u001b[1;32mdef\u001b[0m \u001b[0mstart\u001b[0m\u001b[1;33m(\u001b[0m\u001b[1;33m)\u001b[0m\u001b[1;33m:\u001b[0m\u001b[1;33m\u001b[0m\u001b[1;33m\u001b[0m\u001b[0m\n\u001b[0;32m      2\u001b[0m     \u001b[0mgreet\u001b[0m\u001b[1;33m(\u001b[0m\u001b[1;33m)\u001b[0m\u001b[1;33m\u001b[0m\u001b[1;33m\u001b[0m\u001b[0m\n\u001b[1;32m----> 3\u001b[1;33m     \u001b[0mtalk\u001b[0m\u001b[1;33m(\u001b[0m\u001b[1;33m)\u001b[0m\u001b[1;33m\u001b[0m\u001b[1;33m\u001b[0m\u001b[0m\n\u001b[0m",
      "\u001b[1;32m~\\AppData\\Local\\Temp/ipykernel_18740/1470278981.py\u001b[0m in \u001b[0;36mtalk\u001b[1;34m()\u001b[0m\n\u001b[0;32m      2\u001b[0m     \u001b[0mkeep_going\u001b[0m\u001b[1;33m=\u001b[0m\u001b[1;32mTrue\u001b[0m\u001b[1;33m\u001b[0m\u001b[1;33m\u001b[0m\u001b[0m\n\u001b[0;32m      3\u001b[0m     \u001b[1;32mwhile\u001b[0m\u001b[1;33m(\u001b[0m\u001b[0mkeep_going\u001b[0m\u001b[1;33m)\u001b[0m\u001b[1;33m:\u001b[0m\u001b[1;33m\u001b[0m\u001b[1;33m\u001b[0m\u001b[0m\n\u001b[1;32m----> 4\u001b[1;33m         \u001b[0mget_input\u001b[0m\u001b[1;33m(\u001b[0m\u001b[1;33m)\u001b[0m\u001b[1;33m\u001b[0m\u001b[1;33m\u001b[0m\u001b[0m\n\u001b[0m\u001b[0;32m      5\u001b[0m         \u001b[1;32mif\u001b[0m \u001b[0mlen\u001b[0m\u001b[1;33m(\u001b[0m\u001b[0mopt_input\u001b[0m\u001b[1;33m)\u001b[0m \u001b[1;33m==\u001b[0m\u001b[1;36m0\u001b[0m\u001b[1;33m:\u001b[0m\u001b[1;33m\u001b[0m\u001b[1;33m\u001b[0m\u001b[0m\n\u001b[0;32m      6\u001b[0m             \u001b[0mprint_output\u001b[0m\u001b[1;33m(\u001b[0m\u001b[0mrandom\u001b[0m\u001b[1;33m.\u001b[0m\u001b[0mchoice\u001b[0m\u001b[1;33m(\u001b[0m\u001b[0mprompts\u001b[0m\u001b[1;33m)\u001b[0m\u001b[1;33m)\u001b[0m\u001b[1;33m\u001b[0m\u001b[1;33m\u001b[0m\u001b[0m\n",
      "\u001b[1;32m~\\AppData\\Local\\Temp/ipykernel_18740/1778045693.py\u001b[0m in \u001b[0;36mget_input\u001b[1;34m()\u001b[0m\n\u001b[0;32m      2\u001b[0m     \u001b[1;31m#function gets input from user\u001b[0m\u001b[1;33m\u001b[0m\u001b[1;33m\u001b[0m\u001b[1;33m\u001b[0m\u001b[0m\n\u001b[0;32m      3\u001b[0m     \u001b[1;32mglobal\u001b[0m \u001b[0minput_resp\u001b[0m\u001b[1;33m\u001b[0m\u001b[1;33m\u001b[0m\u001b[0m\n\u001b[1;32m----> 4\u001b[1;33m     \u001b[0minput_resp\u001b[0m \u001b[1;33m=\u001b[0m \u001b[0minput\u001b[0m\u001b[1;33m(\u001b[0m\u001b[1;33m(\u001b[0m\u001b[0mname\u001b[0m\u001b[1;33m+\u001b[0m\u001b[1;34m\": \"\u001b[0m\u001b[1;33m)\u001b[0m\u001b[1;33m)\u001b[0m\u001b[1;33m\u001b[0m\u001b[1;33m\u001b[0m\u001b[0m\n\u001b[0m\u001b[0;32m      5\u001b[0m     \u001b[1;32mglobal\u001b[0m \u001b[0mopt_input\u001b[0m\u001b[1;33m\u001b[0m\u001b[1;33m\u001b[0m\u001b[0m\n\u001b[0;32m      6\u001b[0m     \u001b[0mopt_input\u001b[0m\u001b[1;33m=\u001b[0m\u001b[0mip\u001b[0m\u001b[1;33m.\u001b[0m\u001b[0moptimizer\u001b[0m\u001b[1;33m(\u001b[0m\u001b[0minput_resp\u001b[0m\u001b[1;33m)\u001b[0m\u001b[1;33m\u001b[0m\u001b[1;33m\u001b[0m\u001b[0m\n",
      "\u001b[1;32m~\\miniconda3\\lib\\site-packages\\ipykernel\\kernelbase.py\u001b[0m in \u001b[0;36mraw_input\u001b[1;34m(self, prompt)\u001b[0m\n\u001b[0;32m   1004\u001b[0m                 \u001b[1;34m\"raw_input was called, but this frontend does not support input requests.\"\u001b[0m\u001b[1;33m\u001b[0m\u001b[1;33m\u001b[0m\u001b[0m\n\u001b[0;32m   1005\u001b[0m             )\n\u001b[1;32m-> 1006\u001b[1;33m         return self._input_request(\n\u001b[0m\u001b[0;32m   1007\u001b[0m             \u001b[0mstr\u001b[0m\u001b[1;33m(\u001b[0m\u001b[0mprompt\u001b[0m\u001b[1;33m)\u001b[0m\u001b[1;33m,\u001b[0m\u001b[1;33m\u001b[0m\u001b[1;33m\u001b[0m\u001b[0m\n\u001b[0;32m   1008\u001b[0m             \u001b[0mself\u001b[0m\u001b[1;33m.\u001b[0m\u001b[0m_parent_ident\u001b[0m\u001b[1;33m[\u001b[0m\u001b[1;34m\"shell\"\u001b[0m\u001b[1;33m]\u001b[0m\u001b[1;33m,\u001b[0m\u001b[1;33m\u001b[0m\u001b[1;33m\u001b[0m\u001b[0m\n",
      "\u001b[1;32m~\\miniconda3\\lib\\site-packages\\ipykernel\\kernelbase.py\u001b[0m in \u001b[0;36m_input_request\u001b[1;34m(self, prompt, ident, parent, password)\u001b[0m\n\u001b[0;32m   1049\u001b[0m             \u001b[1;32mexcept\u001b[0m \u001b[0mKeyboardInterrupt\u001b[0m\u001b[1;33m:\u001b[0m\u001b[1;33m\u001b[0m\u001b[1;33m\u001b[0m\u001b[0m\n\u001b[0;32m   1050\u001b[0m                 \u001b[1;31m# re-raise KeyboardInterrupt, to truncate traceback\u001b[0m\u001b[1;33m\u001b[0m\u001b[1;33m\u001b[0m\u001b[1;33m\u001b[0m\u001b[0m\n\u001b[1;32m-> 1051\u001b[1;33m                 \u001b[1;32mraise\u001b[0m \u001b[0mKeyboardInterrupt\u001b[0m\u001b[1;33m(\u001b[0m\u001b[1;34m\"Interrupted by user\"\u001b[0m\u001b[1;33m)\u001b[0m \u001b[1;32mfrom\u001b[0m \u001b[1;32mNone\u001b[0m\u001b[1;33m\u001b[0m\u001b[1;33m\u001b[0m\u001b[0m\n\u001b[0m\u001b[0;32m   1052\u001b[0m             \u001b[1;32mexcept\u001b[0m \u001b[0mException\u001b[0m\u001b[1;33m:\u001b[0m\u001b[1;33m\u001b[0m\u001b[1;33m\u001b[0m\u001b[0m\n\u001b[0;32m   1053\u001b[0m                 \u001b[0mself\u001b[0m\u001b[1;33m.\u001b[0m\u001b[0mlog\u001b[0m\u001b[1;33m.\u001b[0m\u001b[0mwarning\u001b[0m\u001b[1;33m(\u001b[0m\u001b[1;34m\"Invalid Message:\"\u001b[0m\u001b[1;33m,\u001b[0m \u001b[0mexc_info\u001b[0m\u001b[1;33m=\u001b[0m\u001b[1;32mTrue\u001b[0m\u001b[1;33m)\u001b[0m\u001b[1;33m\u001b[0m\u001b[1;33m\u001b[0m\u001b[0m\n",
      "\u001b[1;31mKeyboardInterrupt\u001b[0m: Interrupted by user"
     ]
    }
   ],
   "source": [
    "start()"
   ]
  },
  {
   "cell_type": "code",
   "execution_count": 128,
   "id": "2644e279-13a6-46bb-b1ed-a361cf24753e",
   "metadata": {},
   "outputs": [
    {
     "data": {
      "text/plain": [
       "'guten Morgen'"
      ]
     },
     "execution_count": 128,
     "metadata": {},
     "output_type": "execute_result"
    }
   ],
   "source": [
    "translator.translate(\"good morning\")"
   ]
  },
  {
   "cell_type": "code",
   "execution_count": null,
   "id": "e9c00139-dd51-4b61-9d23-df0855ae3512",
   "metadata": {},
   "outputs": [],
   "source": []
  }
 ],
 "metadata": {
  "kernelspec": {
   "display_name": "Python 3 (ipykernel)",
   "language": "python",
   "name": "python3"
  },
  "language_info": {
   "codemirror_mode": {
    "name": "ipython",
    "version": 3
   },
   "file_extension": ".py",
   "mimetype": "text/x-python",
   "name": "python",
   "nbconvert_exporter": "python",
   "pygments_lexer": "ipython3",
   "version": "3.9.5"
  }
 },
 "nbformat": 4,
 "nbformat_minor": 5
}
